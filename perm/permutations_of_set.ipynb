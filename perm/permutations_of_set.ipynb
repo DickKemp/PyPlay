{
 "cells": [
  {
   "cell_type": "markdown",
   "metadata": {},
   "source": [
    "# this is where the code starts\n"
   ]
  },
  {
   "cell_type": "code",
   "execution_count": 27,
   "metadata": {
    "collapsed": false
   },
   "outputs": [
    {
     "data": {
      "text/plain": [
       "[[],\n",
       " ['A'],\n",
       " ['B'],\n",
       " ['A', 'B'],\n",
       " ['C'],\n",
       " ['A', 'C'],\n",
       " ['B', 'C'],\n",
       " ['A', 'B', 'C'],\n",
       " ['D'],\n",
       " ['A', 'D'],\n",
       " ['B', 'D'],\n",
       " ['A', 'B', 'D'],\n",
       " ['C', 'D'],\n",
       " ['A', 'C', 'D'],\n",
       " ['B', 'C', 'D'],\n",
       " ['A', 'B', 'C', 'D']]"
      ]
     },
     "execution_count": 27,
     "metadata": {},
     "output_type": "execute_result"
    }
   ],
   "source": [
    "def add_item_to_sets(item, listofsets):\n",
    "    return [s+[item] for s in listofsets]\n",
    "\n",
    "list_to_permute = ['A', 'B', 'C', 'D']\n",
    "all_subsets = [[]]\n",
    "for item in list_to_permute:\n",
    "    new_subsets = add_item_to_sets(item, all_subsets)\n",
    "    all_subsets.extend(new_subsets)\n",
    "all_subsets\n"
   ]
  },
  {
   "cell_type": "code",
   "execution_count": null,
   "metadata": {
    "collapsed": true
   },
   "outputs": [],
   "source": []
  }
 ],
 "metadata": {
  "kernelspec": {
   "display_name": "Python 2",
   "language": "python",
   "name": "python2"
  },
  "language_info": {
   "codemirror_mode": {
    "name": "ipython",
    "version": 2
   },
   "file_extension": ".py",
   "mimetype": "text/x-python",
   "name": "python",
   "nbconvert_exporter": "python",
   "pygments_lexer": "ipython2",
   "version": "2.7.13"
  }
 },
 "nbformat": 4,
 "nbformat_minor": 2
}
